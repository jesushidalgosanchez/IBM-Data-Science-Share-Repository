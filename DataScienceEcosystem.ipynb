{
 "cells": [
  {
   "cell_type": "markdown",
   "id": "4e4365b2-173a-4763-8c62-ea5fe46c37bc",
   "metadata": {},
   "source": [
    "# Data Science Tools and Ecosystem"
   ]
  },
  {
   "cell_type": "markdown",
   "id": "5b4748ca-5c68-4f47-9eee-7acff4b532b4",
   "metadata": {
    "tags": []
   },
   "source": [
    "## In this notebook, Data Science Tools and Ecosystem are summarized."
   ]
  },
  {
   "cell_type": "markdown",
   "id": "3c990bb4-3575-41d4-81ba-f88c170fc519",
   "metadata": {},
   "source": [
    "### __Objectives:__\n",
    "* List popular languages for Data Science\n",
    "* List popular data science tools\n",
    "* Work with Jupyter Notebooks\n",
    "* Run simple code in Python and R"
   ]
  },
  {
   "cell_type": "markdown",
   "id": "3bee195a-53d3-47a2-93b0-f3e76fb0b142",
   "metadata": {
    "tags": []
   },
   "source": [
    "### Some of the popular languages that Data Scientists use are:\n",
    "1. Python\n",
    "2. R\n",
    "3. Julia\n",
    "4. SQL\n",
    "5. Scala"
   ]
  },
  {
   "cell_type": "markdown",
   "id": "de53eb6c-5489-4dcf-a76f-d7c3e8add7bc",
   "metadata": {
    "tags": []
   },
   "source": [
    "### Some of the commonly used libraries used by Data Scientists include:\n",
    "1. Pandas\n",
    "2. Numpy\n",
    "3. Matplotlib\n",
    "4. TensorFlow"
   ]
  },
  {
   "cell_type": "markdown",
   "id": "e17be557-e798-4c9e-993d-904846192be5",
   "metadata": {},
   "source": [
    "|Data Science Tools|\n",
    "|------------------|\n",
    "|Jupyter|\n",
    "|Anaconda|\n",
    "|R Studio|\n",
    "|Apache Hadoop|"
   ]
  },
  {
   "cell_type": "markdown",
   "id": "c2c321fa-c938-4786-9a37-4addd1b7b63d",
   "metadata": {},
   "source": [
    "### Below are a few examples of evaluating arithmetic expressions in Python\n",
    "* 1 + 2\n",
    "* 3 * 5\n",
    "* 7 * (3+8)"
   ]
  },
  {
   "cell_type": "code",
   "execution_count": 1,
   "id": "c55b3839-8d64-489f-b745-2434ced50570",
   "metadata": {
    "tags": []
   },
   "outputs": [
    {
     "data": {
      "text/plain": [
       "17"
      ]
     },
     "execution_count": 1,
     "metadata": {},
     "output_type": "execute_result"
    }
   ],
   "source": [
    "# This a simple arithmetic expression to mutiply then add integers\n",
    "(3*4)+5"
   ]
  },
  {
   "cell_type": "code",
   "execution_count": 2,
   "id": "1345ec38-cc81-4391-bd99-61dc3889f57e",
   "metadata": {
    "tags": []
   },
   "outputs": [
    {
     "data": {
      "text/plain": [
       "3.3333333333333335"
      ]
     },
     "execution_count": 2,
     "metadata": {},
     "output_type": "execute_result"
    }
   ],
   "source": [
    "# This will convert 200 minutes to hours by diving by 60\n",
    "200 / 60"
   ]
  },
  {
   "cell_type": "markdown",
   "id": "b8b65223-83f1-47a9-9739-0c67e918f2b5",
   "metadata": {},
   "source": [
    "## Author\n",
    "Jesús Hidalgo Sánchez"
   ]
  },
  {
   "cell_type": "code",
   "execution_count": null,
   "id": "4b4801a3-a913-4843-9a1e-5b3b081d00c8",
   "metadata": {},
   "outputs": [],
   "source": []
  }
 ],
 "metadata": {
  "kernelspec": {
   "display_name": "Python 3 (ipykernel)",
   "language": "python",
   "name": "python3"
  },
  "language_info": {
   "codemirror_mode": {
    "name": "ipython",
    "version": 3
   },
   "file_extension": ".py",
   "mimetype": "text/x-python",
   "name": "python",
   "nbconvert_exporter": "python",
   "pygments_lexer": "ipython3",
   "version": "3.11.4"
  }
 },
 "nbformat": 4,
 "nbformat_minor": 5
}
